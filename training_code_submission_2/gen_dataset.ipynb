{
 "cells": [
  {
   "cell_type": "code",
   "execution_count": null,
   "metadata": {},
   "outputs": [],
   "source": [
    "from tqdm.auto import tqdm\n",
    "import numpy as np\n",
    "from collections import Counter\n",
    "\n",
    "from datasets import load_dataset, Dataset"
   ]
  },
  {
   "cell_type": "code",
   "execution_count": null,
   "metadata": {},
   "outputs": [],
   "source": [
    "oasst1_dataset = load_dataset('OpenAssistant/oasst1', split=\"train+validation\")\n",
    "lima_dataset = load_dataset('GAIR/lima', split=\"train\")"
   ]
  },
  {
   "cell_type": "code",
   "execution_count": null,
   "metadata": {},
   "outputs": [],
   "source": [
    "root_nodes = {}\n",
    "for sample in tqdm(oasst1_dataset):\n",
    "    if sample['parent_id'] is None:\n",
    "        root_nodes[sample['message_id']] = sample\n",
    "root_ids = set(root_nodes)"
   ]
  },
  {
   "cell_type": "code",
   "execution_count": null,
   "metadata": {},
   "outputs": [],
   "source": [
    "block_words = ['open assist', 'open-assist', 'chatgpt', 'laion']\n",
    "\n",
    "nice_data = []\n",
    "for sample in tqdm(oasst1_dataset):\n",
    "    if sample['lang'] == 'en' and sample['rank'] == 0 and sample['parent_id'] in root_ids:\n",
    "        if any(block_word in sample['text'].lower() for block_word in block_words):\n",
    "            continue\n",
    "\n",
    "        if any(block_word in root_nodes[sample['parent_id']]['text'].lower() for block_word in block_words):\n",
    "            continue\n",
    "\n",
    "        nice_data.append([\n",
    "            root_nodes[sample['parent_id']],\n",
    "            sample\n",
    "        ])\n",
    "print(len(nice_data))"
   ]
  },
  {
   "cell_type": "code",
   "execution_count": null,
   "metadata": {},
   "outputs": [],
   "source": [
    "# convs = [(sample[0]['text'], sample[1]['text']) for sample in nice_data]\n",
    "convs = [[sample[0]['text'], sample[1]['text']] for sample in nice_data]\n",
    "\n",
    "lima_convs = [[a, b] for a, b in lima_dataset[:1000]['conversations']]"
   ]
  },
  {
   "cell_type": "code",
   "execution_count": null,
   "metadata": {},
   "outputs": [],
   "source": [
    "all_conversations = convs + lima_convs\n",
    "all_source = ['oasst']*len(convs) + ['lima'] * 1000"
   ]
  },
  {
   "cell_type": "code",
   "execution_count": null,
   "metadata": {},
   "outputs": [],
   "source": [
    "len(all_conversations), len(all_source)"
   ]
  },
  {
   "cell_type": "code",
   "execution_count": null,
   "metadata": {},
   "outputs": [],
   "source": [
    "msg_ds = Dataset.from_dict({\"conversations\": all_conversations, \"source\": all_source})"
   ]
  },
  {
   "cell_type": "code",
   "execution_count": null,
   "metadata": {},
   "outputs": [],
   "source": [
    "msg_ds"
   ]
  },
  {
   "cell_type": "code",
   "execution_count": null,
   "metadata": {},
   "outputs": [],
   "source": [
    "msg_ds[-10]"
   ]
  },
  {
   "cell_type": "code",
   "execution_count": null,
   "metadata": {},
   "outputs": [],
   "source": [
    "msg_ds.push_to_hub(\"ycchen_submission_2_dataset\")"
   ]
  }
 ],
 "metadata": {
  "kernelspec": {
   "display_name": "torch",
   "language": "python",
   "name": "python3"
  },
  "language_info": {
   "codemirror_mode": {
    "name": "ipython",
    "version": 3
   },
   "file_extension": ".py",
   "mimetype": "text/x-python",
   "name": "python",
   "nbconvert_exporter": "python",
   "pygments_lexer": "ipython3",
   "version": "3.11.5"
  }
 },
 "nbformat": 4,
 "nbformat_minor": 2
}
